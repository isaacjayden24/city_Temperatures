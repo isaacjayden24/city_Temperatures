import pandas as pd
import numpy as np
import matplotlib.pyplot as plt
from scipy.optimize import curve_fit
#read the txt file
df = pd.read_fwf("Delhi.txt")
#print out the data
print(pd)

#check the minimum temperature
TEMPERATURE.min()
#check the maximum temperature
TEMPERATURE.max()

 %matplotlib inline



#plot the  data
plt.plot(TEMPERATURE,YEAR,'.')
plt.xlabel('Year')
plt.ylabel('The temperature recorded in celcius')
#plotting line of best fit
# Read txt file into a DataFrame
df = pd.read_fwf("Delhi.txt")
# calculate the coefficients of the line of best fit
coefficients = np.polyfit(df[YEAR], df[TEMPERATURE], 1)
# create a scatter plot of the data
plt.scatter(df[YEAR], df[TEMPERATURE])
# add the line of best fit to the scatter plot
plt.plot(df[YEAR], np.polyval(coefficients, df[TEMPERATURE]), 'r--')

# add labels and title to the plot
plt.xlabel("Time in years")
plt.ylabel("Temperature recorded")
plt.title('Line of Best Fit')

# display the plot
plt.show()
