{
 "cells": [
  {
   "cell_type": "code",
   "execution_count": null,
   "metadata": {
    "collapsed": true,
    "pycharm": {
     "is_executing": true
    }
   },
   "outputs": [],
   "source": [
    "import pandas as pd\n",
    "import numpy as np\n",
    "import matplotlib.pyplot as plt\n",
    "from scipy.optimize import curve_fit\n",
    "#read the txt file\n",
    "df = pd.read_fwf(\"Delhi.txt\")\n",
    "#print out the data\n",
    "print(pd)\n"
   ]
  },
  {
   "cell_type": "code",
   "execution_count": null,
   "outputs": [],
   "source": [
    "#check the minimum temperature\n",
    "TEMPERATURE.min()\n",
    "#check the maximum temperature\n",
    "TEMPERATURE.max()\n",
    "\n",
    " %matplotlib inline\n",
    "\n"
   ],
   "metadata": {
    "collapsed": false,
    "pycharm": {
     "is_executing": true
    }
   }
  },
  {
   "cell_type": "code",
   "execution_count": null,
   "outputs": [],
   "source": [
    "#plot the  data\n",
    "plt.plot(TEMPERATURE,YEAR,'.')\n",
    "plt.xlabel('Year')\n",
    "plt.ylabel('The temperature recorded in celcius')\n",
    "#plotting line of best fit\n",
    "# Read txt file into a DataFrame\n",
    "df = pd.read_fwf(\"Delhi.txt\")\n",
    "# calculate the coefficients of the line of best fit\n",
    "coefficients = np.polyfit(df[YEAR], df[TEMPERATURE], 1)\n",
    "# create a scatter plot of the data\n",
    "plt.scatter(df[YEAR], df[TEMPERATURE])\n",
    "# add the line of best fit to the scatter plot\n",
    "plt.plot(df[YEAR], np.polyval(coefficients, df[TEMPERATURE]), 'r--')\n",
    "\n",
    "# add labels and title to the plot\n",
    "plt.xlabel(\"Time in years\")\n",
    "plt.ylabel(\"Temperature recorded\")\n",
    "plt.title('Line of Best Fit')\n",
    "\n",
    "# display the plot\n",
    "plt.show()\n",
    "\n",
    "# calculate the coefficients of the regression line\n",
    "slope, intercept, r_value, p_value, std_err = linregress(df[YEAR], df[TEMPERATURE])\n",
    "\n",
    "# create a scatter plot of the data\n",
    "plt.scatter(df[YEAR], df[TEMPERATURE])\n",
    "\n",
    "# add the regression line to the scatter plot\n",
    "plt.plot(df[YEAR], intercept + slope * df[YEAR], 'r')\n",
    "\n",
    "# add labels and title to the plot\n",
    "plt.xlabel('Time in years')\n",
    "plt.ylabel('Temperature recorded')\n",
    "plt.title('Regression Line')\n",
    "\n",
    "# display the plot\n",
    "plt.show()\n"
   ],
   "metadata": {
    "collapsed": false
   }
  }
 ],
 "metadata": {
  "kernelspec": {
   "display_name": "Python 3",
   "language": "python",
   "name": "python3"
  },
  "language_info": {
   "codemirror_mode": {
    "name": "ipython",
    "version": 2
   },
   "file_extension": ".py",
   "mimetype": "text/x-python",
   "name": "python",
   "nbconvert_exporter": "python",
   "pygments_lexer": "ipython2",
   "version": "2.7.6"
  }
 },
 "nbformat": 4,
 "nbformat_minor": 0
}
